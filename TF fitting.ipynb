{
 "cells": [
  {
   "cell_type": "markdown",
   "metadata": {
    "slideshow": {
     "slide_type": "slide"
    }
   },
   "source": [
    "# Developing an empirical model from a process reaction curve\n",
    "\n",
    "i.e. conduct a unit step change in the input $u(t)$, record the output $y$ as a function of time $t$."
   ]
  },
  {
   "cell_type": "markdown",
   "metadata": {
    "slideshow": {
     "slide_type": "slide"
    }
   },
   "source": [
    "Load some useful packages.\n",
    "\n",
    "![](https://upload.wikimedia.org/wikipedia/commons/6/69/Julia_prog_language.svg)"
   ]
  },
  {
   "cell_type": "code",
   "execution_count": 1,
   "metadata": {
    "slideshow": {
     "slide_type": "skip"
    }
   },
   "outputs": [],
   "source": [
    "# PyPlot.matplotlib[:style][:use](\"seaborn\")\n",
    "# plt.matplotlib[:rcParams][\"axes.facecolor\"] = (1.0,1.0,1.0,0.0)\n",
    "# plt.matplotlib[:rcParams][\"savefig.transparent\"] = true"
   ]
  },
  {
   "cell_type": "code",
   "execution_count": 2,
   "metadata": {
    "slideshow": {
     "slide_type": "subslide"
    }
   },
   "outputs": [],
   "source": [
    "import PyPlot; const plt = PyPlot # plotting library\n",
    "using DataFrames # working with data\n",
    "using CSV # loading a comma-separated data file\n",
    "using Optim # optimization package"
   ]
  },
  {
   "cell_type": "markdown",
   "metadata": {
    "slideshow": {
     "slide_type": "slide"
    }
   },
   "source": [
    "## load the data"
   ]
  },
  {
   "cell_type": "code",
   "execution_count": 3,
   "metadata": {
    "slideshow": {
     "slide_type": "fragment"
    }
   },
   "outputs": [
    {
     "data": {
      "text/html": [
       "<table class=\"data-frame\"><thead><tr><th></th><th>t_expt</th><th>y</th></tr></thead><tbody><tr><th>1</th><td>0.0</td><td>16.1826</td></tr><tr><th>2</th><td>0.0675676</td><td>16.0181</td></tr><tr><th>3</th><td>0.135135</td><td>16.0582</td></tr><tr><th>4</th><td>0.202703</td><td>15.8626</td></tr><tr><th>5</th><td>0.27027</td><td>16.1345</td></tr><tr><th>6</th><td>0.337838</td><td>16.1833</td></tr></tbody></table>"
      ],
      "text/plain": [
       "6×2 DataFrames.DataFrame\n",
       "│ Row │ t_expt    │ y       │\n",
       "├─────┼───────────┼─────────┤\n",
       "│ 1   │ 0.0       │ 16.1826 │\n",
       "│ 2   │ 0.0675676 │ 16.0181 │\n",
       "│ 3   │ 0.135135  │ 16.0582 │\n",
       "│ 4   │ 0.202703  │ 15.8626 │\n",
       "│ 5   │ 0.27027   │ 16.1345 │\n",
       "│ 6   │ 0.337838  │ 16.1833 │"
      ]
     },
     "execution_count": 3,
     "metadata": {},
     "output_type": "execute_result"
    }
   ],
   "source": [
    "df = CSV.read(\"step_response2.csv\")\n",
    "head(df)"
   ]
  },
  {
   "cell_type": "markdown",
   "metadata": {
    "slideshow": {
     "slide_type": "slide"
    }
   },
   "source": [
    "## viz the data\n",
    "\n",
    "the step input change was conducted at $t=1$."
   ]
  },
  {
   "cell_type": "code",
   "execution_count": 4,
   "metadata": {
    "slideshow": {
     "slide_type": "subslide"
    }
   },
   "outputs": [
    {
     "data": {
      "image/png": "[encoded data removed]",
      "text/plain": [
       "PyPlot.Figure(PyObject <matplotlib.figure.Figure object at 0x7f354b57feb8>)"
      ]
     },
     "metadata": {},
     "output_type": "display_data"
    }
   ],
   "source": [
    "fig = plt.figure()\n",
    "fig[:patch][:set_alpha](0.0)\n",
    "plt.scatter(df[:t_expt], df[:y], color=\"C1\")\n",
    "plt.xlabel(\"\\$t\\$ (experiment)\")\n",
    "plt.ylabel(\"\\$y(t)\\$\")\n",
    "plt.axvline(x=1.0, color=\"k\", linestyle=\"--\")\n",
    "plt.show()"
   ]
  },
  {
   "cell_type": "markdown",
   "metadata": {
    "slideshow": {
     "slide_type": "subslide"
    }
   },
   "source": [
    "looks like a typical first order response! "
   ]
  },
  {
   "cell_type": "markdown",
   "metadata": {
    "slideshow": {
     "slide_type": "subslide"
    }
   },
   "source": [
    "let's try the transfer function model:\n",
    "\\begin{equation}\n",
    "    G(s)= \\frac{K}{\\tau s + 1}\n",
    "\\end{equation}\n",
    "\n",
    "so the expected response is:\n",
    "\n",
    "\\begin{equation}\n",
    "    y^*(t)= K (1 - e^{t/\\tau}).\n",
    "\\end{equation}"
   ]
  },
  {
   "cell_type": "markdown",
   "metadata": {
    "slideshow": {
     "slide_type": "slide"
    }
   },
   "source": [
    "## but \n",
    "\n",
    "to fit \n",
    "\n",
    "\\begin{equation}\n",
    "    y^*(t)= K (1 - e^{t/\\tau}).\n",
    "\\end{equation}\n",
    "\n",
    "to process reaction data, need to:\n",
    "* cast output $y$ in deviation form $y^*=y-\\hat{y}$.\n",
    "* shift time so that step occurs at $t=0$"
   ]
  },
  {
   "cell_type": "markdown",
   "metadata": {
    "slideshow": {
     "slide_type": "subslide"
    }
   },
   "source": [
    "Make $t=0$ be the time that the step occurs.\n",
    "\n",
    "Subtract 1.0 since this was the time the input step was induced in the experiment."
   ]
  },
  {
   "cell_type": "code",
   "execution_count": 5,
   "metadata": {
    "slideshow": {
     "slide_type": "fragment"
    }
   },
   "outputs": [
    {
     "data": {
      "text/html": [
       "<table class=\"data-frame\"><thead><tr><th></th><th>t_expt</th><th>y</th><th>t</th></tr></thead><tbody><tr><th>1</th><td>0.0</td><td>16.1826</td><td>-1.0</td></tr><tr><th>2</th><td>0.0675676</td><td>16.0181</td><td>-0.932432</td></tr><tr><th>3</th><td>0.135135</td><td>16.0582</td><td>-0.864865</td></tr><tr><th>4</th><td>0.202703</td><td>15.8626</td><td>-0.797297</td></tr><tr><th>5</th><td>0.27027</td><td>16.1345</td><td>-0.72973</td></tr><tr><th>6</th><td>0.337838</td><td>16.1833</td><td>-0.662162</td></tr></tbody></table>"
      ],
      "text/plain": [
       "6×3 DataFrames.DataFrame\n",
       "│ Row │ t_expt    │ y       │ t         │\n",
       "├─────┼───────────┼─────────┼───────────┤\n",
       "│ 1   │ 0.0       │ 16.1826 │ -1.0      │\n",
       "│ 2   │ 0.0675676 │ 16.0181 │ -0.932432 │\n",
       "│ 3   │ 0.135135  │ 16.0582 │ -0.864865 │\n",
       "│ 4   │ 0.202703  │ 15.8626 │ -0.797297 │\n",
       "│ 5   │ 0.27027   │ 16.1345 │ -0.72973  │\n",
       "│ 6   │ 0.337838  │ 16.1833 │ -0.662162 │"
      ]
     },
     "execution_count": 5,
     "metadata": {},
     "output_type": "execute_result"
    }
   ],
   "source": [
    "df[:t] = df[:t_expt] - 1.0\n",
    "head(df)"
   ]
  },
  {
   "cell_type": "markdown",
   "metadata": {
    "slideshow": {
     "slide_type": "subslide"
    }
   },
   "source": [
    "declare $\\bar{y}$ as the average $y$-value before the step input occurred"
   ]
  },
  {
   "cell_type": "code",
   "execution_count": 6,
   "metadata": {
    "slideshow": {
     "slide_type": "fragment"
    }
   },
   "outputs": [
    {
     "data": {
      "text/plain": [
       "16.025268919747944"
      ]
     },
     "execution_count": 6,
     "metadata": {},
     "output_type": "execute_result"
    }
   ],
   "source": [
    "ȳ = mean(df[df[:t] .< 0.0, :][:y])"
   ]
  },
  {
   "cell_type": "markdown",
   "metadata": {
    "slideshow": {
     "slide_type": "subslide"
    }
   },
   "source": [
    "declare the deviation variable $y^*=y-\\bar{y}$"
   ]
  },
  {
   "cell_type": "code",
   "execution_count": 7,
   "metadata": {
    "slideshow": {
     "slide_type": "fragment"
    }
   },
   "outputs": [
    {
     "data": {
      "text/html": [
       "<table class=\"data-frame\"><thead><tr><th></th><th>t_expt</th><th>y</th><th>t</th><th>y_star</th></tr></thead><tbody><tr><th>1</th><td>0.0</td><td>16.1826</td><td>-1.0</td><td>0.157349</td></tr><tr><th>2</th><td>0.0675676</td><td>16.0181</td><td>-0.932432</td><td>-0.00719451</td></tr><tr><th>3</th><td>0.135135</td><td>16.0582</td><td>-0.864865</td><td>0.0329205</td></tr><tr><th>4</th><td>0.202703</td><td>15.8626</td><td>-0.797297</td><td>-0.162708</td></tr><tr><th>5</th><td>0.27027</td><td>16.1345</td><td>-0.72973</td><td>0.109203</td></tr><tr><th>6</th><td>0.337838</td><td>16.1833</td><td>-0.662162</td><td>0.158062</td></tr></tbody></table>"
      ],
      "text/plain": [
       "6×4 DataFrames.DataFrame\n",
       "│ Row │ t_expt    │ y       │ t         │ y_star      │\n",
       "├─────┼───────────┼─────────┼───────────┼─────────────┤\n",
       "│ 1   │ 0.0       │ 16.1826 │ -1.0      │ 0.157349    │\n",
       "│ 2   │ 0.0675676 │ 16.0181 │ -0.932432 │ -0.00719451 │\n",
       "│ 3   │ 0.135135  │ 16.0582 │ -0.864865 │ 0.0329205   │\n",
       "│ 4   │ 0.202703  │ 15.8626 │ -0.797297 │ -0.162708   │\n",
       "│ 5   │ 0.27027   │ 16.1345 │ -0.72973  │ 0.109203    │\n",
       "│ 6   │ 0.337838  │ 16.1833 │ -0.662162 │ 0.158062    │"
      ]
     },
     "execution_count": 7,
     "metadata": {},
     "output_type": "execute_result"
    }
   ],
   "source": [
    "df[:y_star] = df[:y] - ȳ\n",
    "head(df)"
   ]
  },
  {
   "cell_type": "markdown",
   "metadata": {
    "slideshow": {
     "slide_type": "subslide"
    }
   },
   "source": [
    "Now plot the data in deviation form."
   ]
  },
  {
   "cell_type": "code",
   "execution_count": 8,
   "metadata": {
    "slideshow": {
     "slide_type": "fragment"
    }
   },
   "outputs": [
    {
     "data": {
      "image/png": "[encoded data removed]",
      "text/plain": [
       "PyPlot.Figure(PyObject <matplotlib.figure.Figure object at 0x7f351ce9d048>)"
      ]
     },
     "metadata": {},
     "output_type": "display_data"
    }
   ],
   "source": [
    "fig = plt.figure()\n",
    "fig[:patch][:set_alpha](0.0)\n",
    "plt.scatter(df[:t], df[:y_star], color=\"C1\")\n",
    "plt.xlabel(\"\\$t\\$\")\n",
    "plt.ylabel(\"\\$y^*(t)\\$\")\n",
    "plt.show()"
   ]
  },
  {
   "cell_type": "markdown",
   "metadata": {
    "slideshow": {
     "slide_type": "subslide"
    }
   },
   "source": [
    "let's throw away the data points before the step occurred.\n",
    "\n",
    "these won't be used in our fitting procedure."
   ]
  },
  {
   "cell_type": "code",
   "execution_count": 9,
   "metadata": {
    "slideshow": {
     "slide_type": "fragment"
    }
   },
   "outputs": [
    {
     "data": {
      "text/html": [
       "<table class=\"data-frame\"><thead><tr><th></th><th>t_expt</th><th>y</th><th>t</th><th>y_star</th></tr></thead><tbody><tr><th>1</th><td>1.01351</td><td>16.9199</td><td>0.0135135</td><td>0.894595</td></tr><tr><th>2</th><td>1.08108</td><td>22.1676</td><td>0.0810811</td><td>6.14232</td></tr><tr><th>3</th><td>1.14865</td><td>26.6565</td><td>0.148649</td><td>10.6312</td></tr><tr><th>4</th><td>1.21622</td><td>31.1498</td><td>0.216216</td><td>15.1245</td></tr><tr><th>5</th><td>1.28378</td><td>34.6683</td><td>0.283784</td><td>18.643</td></tr><tr><th>6</th><td>1.35135</td><td>38.2622</td><td>0.351351</td><td>22.2369</td></tr></tbody></table>"
      ],
      "text/plain": [
       "6×4 DataFrames.DataFrame\n",
       "│ Row │ t_expt  │ y       │ t         │ y_star   │\n",
       "├─────┼─────────┼─────────┼───────────┼──────────┤\n",
       "│ 1   │ 1.01351 │ 16.9199 │ 0.0135135 │ 0.894595 │\n",
       "│ 2   │ 1.08108 │ 22.1676 │ 0.0810811 │ 6.14232  │\n",
       "│ 3   │ 1.14865 │ 26.6565 │ 0.148649  │ 10.6312  │\n",
       "│ 4   │ 1.21622 │ 31.1498 │ 0.216216  │ 15.1245  │\n",
       "│ 5   │ 1.28378 │ 34.6683 │ 0.283784  │ 18.643   │\n",
       "│ 6   │ 1.35135 │ 38.2622 │ 0.351351  │ 22.2369  │"
      ]
     },
     "execution_count": 9,
     "metadata": {},
     "output_type": "execute_result"
    }
   ],
   "source": [
    "df = df[df[:t] .> 0.0, :]\n",
    "head(df)"
   ]
  },
  {
   "cell_type": "markdown",
   "metadata": {
    "slideshow": {
     "slide_type": "slide"
    }
   },
   "source": [
    "## Data is ready"
   ]
  },
  {
   "cell_type": "code",
   "execution_count": 10,
   "metadata": {
    "slideshow": {
     "slide_type": "fragment"
    }
   },
   "outputs": [
    {
     "data": {
      "image/png": "[encoded data removed]",
      "text/plain": [
       "PyPlot.Figure(PyObject <matplotlib.figure.Figure object at 0x7f351ce8a4e0>)"
      ]
     },
     "metadata": {},
     "output_type": "display_data"
    }
   ],
   "source": [
    "fig = plt.figure()\n",
    "fig[:patch][:set_alpha](0.0)\n",
    "plt.scatter(df[:t], df[:y_star], color=\"C1\")\n",
    "plt.xlabel(\"\\$t\\$\")\n",
    "plt.ylabel(\"\\$y^*(t)\\$\")\n",
    "plt.show()"
   ]
  },
  {
   "cell_type": "markdown",
   "metadata": {
    "slideshow": {
     "slide_type": "slide"
    }
   },
   "source": [
    "## Preparing to fit model to data\n",
    "\n",
    "Here's what we're fitting to:\n",
    "\n",
    "\\begin{equation}\n",
    "    y^*(t)= K (1 - e^{t/\\tau}).\n",
    "\\end{equation}"
   ]
  },
  {
   "cell_type": "code",
   "execution_count": 11,
   "metadata": {
    "slideshow": {
     "slide_type": "fragment"
    }
   },
   "outputs": [
    {
     "data": {
      "text/plain": [
       "1.9996211163495343"
      ]
     },
     "execution_count": 11,
     "metadata": {},
     "output_type": "execute_result"
    }
   ],
   "source": [
    "function y_star(t, K, τ)\n",
    "    return K * (1.0 - exp(-t / τ))\n",
    "end\n",
    "\n",
    "y_star(6.0, 2.0, 0.7)"
   ]
  },
  {
   "cell_type": "markdown",
   "metadata": {
    "slideshow": {
     "slide_type": "subslide"
    }
   },
   "source": [
    "For example if we guess $K=50$, $\\tau=0.5$, here's a comparison of model to data"
   ]
  },
  {
   "cell_type": "code",
   "execution_count": 12,
   "metadata": {
    "slideshow": {
     "slide_type": "fragment"
    }
   },
   "outputs": [
    {
     "data": {
      "text/plain": [
       "50-element Array{Float64,1}:\n",
       "  0.0    \n",
       "  7.53171\n",
       " 13.9289 \n",
       " 19.3624 \n",
       " 23.9775 \n",
       " 27.8974 \n",
       " 31.2268 \n",
       " 34.0547 \n",
       " 36.4566 \n",
       " 38.4967 \n",
       " 40.2295 \n",
       " 41.7013 \n",
       " 42.9513 \n",
       "  ⋮      \n",
       " 49.8989 \n",
       " 49.9142 \n",
       " 49.9271 \n",
       " 49.9381 \n",
       " 49.9474 \n",
       " 49.9553 \n",
       " 49.9621 \n",
       " 49.9678 \n",
       " 49.9726 \n",
       " 49.9767 \n",
       " 49.9803 \n",
       " 49.9832 "
      ]
     },
     "execution_count": 12,
     "metadata": {},
     "output_type": "execute_result"
    }
   ],
   "source": [
    "t = linspace(0.0, 4.0)\n",
    "y_pred = y_star.(t, 50.0, 0.5)"
   ]
  },
  {
   "cell_type": "code",
   "execution_count": 13,
   "metadata": {
    "slideshow": {
     "slide_type": "subslide"
    }
   },
   "outputs": [
    {
     "data": {
      "image/png": "[encoded data removed]",
      "text/plain": [
       "PyPlot.Figure(PyObject <matplotlib.figure.Figure object at 0x7f351cd37eb8>)"
      ]
     },
     "metadata": {},
     "output_type": "display_data"
    }
   ],
   "source": [
    "fig = plt.figure()\n",
    "fig[:patch][:set_alpha](0.0)\n",
    "plt.scatter(df[:t], df[:y_star], color=\"C1\", label=\"data\")\n",
    "plt.plot(t, y_pred, color=\"C2\", label=\"model\")\n",
    "plt.xlabel(\"\\$t\\$\")\n",
    "plt.ylabel(\"\\$y^*(t)\\$\")\n",
    "plt.legend(loc=\"lower right\")\n",
    "plt.show()"
   ]
  },
  {
   "cell_type": "markdown",
   "metadata": {
    "slideshow": {
     "slide_type": "slide"
    }
   },
   "source": [
    "## write loss function $\\ell(\\beta)$"
   ]
  },
  {
   "cell_type": "code",
   "execution_count": 14,
   "metadata": {
    "slideshow": {
     "slide_type": "fragment"
    }
   },
   "outputs": [
    {
     "data": {
      "text/plain": [
       "402.5876333169071"
      ]
     },
     "execution_count": 14,
     "metadata": {},
     "output_type": "execute_result"
    }
   ],
   "source": [
    "function sum_of_squares(β::Array{Float64, 1})\n",
    "    K = β[1]\n",
    "    τ = β[2]\n",
    "    \n",
    "    sum_of_squares = 0.0\n",
    "    for row in eachrow(df)\n",
    "        sum_of_squares += (row[:y_star] - y_star(row[:t], K, τ)) ^ 2\n",
    "    end\n",
    "    return sum_of_squares\n",
    "end\n",
    "\n",
    "sum_of_squares([50.0, 0.65])"
   ]
  },
  {
   "cell_type": "markdown",
   "metadata": {
    "slideshow": {
     "slide_type": "slide"
    }
   },
   "source": [
    "## make a guess for $K$ and $\\tau$"
   ]
  },
  {
   "cell_type": "code",
   "execution_count": 15,
   "metadata": {
    "slideshow": {
     "slide_type": "fragment"
    }
   },
   "outputs": [
    {
     "data": {
      "text/plain": [
       "2-element Array{Float64,1}:\n",
       " 50.0\n",
       "  0.5"
      ]
     },
     "execution_count": 15,
     "metadata": {},
     "output_type": "execute_result"
    }
   ],
   "source": [
    "β_guess = [50, 0.5] # [K, τ]"
   ]
  },
  {
   "cell_type": "markdown",
   "metadata": {
    "slideshow": {
     "slide_type": "slide"
    }
   },
   "source": [
    "## Minimize loss $\\ell(\\beta)$ with respect to $\\beta=[K, \\tau]$\n",
    "\n",
    "Nelder-Mead algo"
   ]
  },
  {
   "cell_type": "code",
   "execution_count": 16,
   "metadata": {
    "slideshow": {
     "slide_type": "fragment"
    }
   },
   "outputs": [
    {
     "data": {
      "text/plain": [
       "Results of Optimization Algorithm\n",
       " * Algorithm: Nelder-Mead\n",
       " * Starting Point: [50.0,0.5]\n",
       " * Minimizer: [52.993981292943886,0.6512788587412965]\n",
       " * Minimum: 8.401652e-01\n",
       " * Iterations: 41\n",
       " * Convergence: true\n",
       "   *  √(Σ(yᵢ-ȳ)²)/n < 1.0e-08: true\n",
       "   * Reached Maximum Number of Iterations: false\n",
       " * Objective Calls: 84"
      ]
     },
     "execution_count": 16,
     "metadata": {},
     "output_type": "execute_result"
    }
   ],
   "source": [
    "result = optimize(sum_of_squares, β_guess, NelderMead())"
   ]
  },
  {
   "cell_type": "code",
   "execution_count": 17,
   "metadata": {
    "slideshow": {
     "slide_type": "fragment"
    }
   },
   "outputs": [
    {
     "data": {
      "text/plain": [
       "2-element Array{Float64,1}:\n",
       " 52.994   \n",
       "  0.651279"
      ]
     },
     "execution_count": 17,
     "metadata": {},
     "output_type": "execute_result"
    }
   ],
   "source": [
    "K, τ = result.minimizer"
   ]
  },
  {
   "cell_type": "markdown",
   "metadata": {
    "slideshow": {
     "slide_type": "subslide"
    }
   },
   "source": [
    "## what did we just do?\n",
    "    \n",
    "[the triangle dance of the Nelder-Mead algo](https://www.youtube.com/watch?v=KEGSLQ6TlBM)\n",
    "\n",
    "[See Fig 6.4-5 here](http://adl.stanford.edu/aa222/lecture_notes_files/chapter6_gradfree.pdf)"
   ]
  },
  {
   "cell_type": "markdown",
   "metadata": {
    "slideshow": {
     "slide_type": "slide"
    }
   },
   "source": [
    "## how did we do?"
   ]
  },
  {
   "cell_type": "code",
   "execution_count": 18,
   "metadata": {
    "slideshow": {
     "slide_type": "fragment"
    }
   },
   "outputs": [
    {
     "data": {
      "text/plain": [
       "50-element Array{Float64,1}:\n",
       "  0.0    \n",
       "  6.24295\n",
       " 11.7505 \n",
       " 16.6091 \n",
       " 20.8955 \n",
       " 24.6768 \n",
       " 28.0127 \n",
       " 30.9556 \n",
       " 33.5519 \n",
       " 35.8422 \n",
       " 37.8628 \n",
       " 39.6453 \n",
       " 41.2179 \n",
       "  ⋮      \n",
       " 52.5414 \n",
       " 52.5947 \n",
       " 52.6418 \n",
       " 52.6833 \n",
       " 52.7199 \n",
       " 52.7522 \n",
       " 52.7806 \n",
       " 52.8058 \n",
       " 52.8279 \n",
       " 52.8475 \n",
       " 52.8648 \n",
       " 52.88   "
      ]
     },
     "execution_count": 18,
     "metadata": {},
     "output_type": "execute_result"
    }
   ],
   "source": [
    "t = linspace(0.0, 4.0)\n",
    "y_pred = y_star.(t, K, τ)"
   ]
  },
  {
   "cell_type": "code",
   "execution_count": 19,
   "metadata": {
    "slideshow": {
     "slide_type": "subslide"
    }
   },
   "outputs": [
    {
     "data": {
      "image/png": "[encoded data removed]",
      "text/plain": [
       "PyPlot.Figure(PyObject <matplotlib.figure.Figure object at 0x7f351cd260f0>)"
      ]
     },
     "metadata": {},
     "output_type": "display_data"
    }
   ],
   "source": [
    "fig = plt.figure()\n",
    "fig[:patch][:set_alpha](0.0)\n",
    "plt.scatter(df[:t], df[:y_star], color=\"C1\", label=\"data\")\n",
    "plt.plot(t, y_pred, color=\"C2\", label=\"model\")\n",
    "plt.xlabel(\"\\$t\\$\")\n",
    "plt.ylabel(\"\\$y^*(t)\\$\")\n",
    "plt.legend(loc=\"lower right\")\n",
    "plt.show()"
   ]
  },
  {
   "cell_type": "markdown",
   "metadata": {
    "slideshow": {
     "slide_type": "slide"
    }
   },
   "source": [
    "## Empirical model is:\n",
    "\\begin{equation}\n",
    "    G(s) = \\frac{53}{0.65 s + 1}\n",
    "\\end{equation}"
   ]
  }
 ],
 "metadata": {
  "celltoolbar": "Slideshow",
  "kernelspec": {
   "display_name": "Julia 0.6.2",
   "language": "julia",
   "name": "julia-0.6"
  },
  "language_info": {
   "file_extension": ".jl",
   "mimetype": "application/julia",
   "name": "julia",
   "version": "0.6.2"
  }
 },
 "nbformat": 4,
 "nbformat_minor": 2
}
