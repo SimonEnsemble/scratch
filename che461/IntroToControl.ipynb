{
 "cells": [
  {
   "cell_type": "markdown",
   "metadata": {
    "slideshow": {
     "slide_type": "slide"
    }
   },
   "source": [
    "> If we could first know where we are\n",
    "> and whither we are tending,\n",
    "> we could better judge what to do\n",
    "> and how to do it.\n",
    ">\n",
    "> Abraham Lincoln (1809-1865)"
   ]
  },
  {
   "cell_type": "markdown",
   "metadata": {
    "slideshow": {
     "slide_type": "slide"
    }
   },
   "source": [
    "# Intro to process control\n",
    "\n",
    "Pure water is mixed with salt granules in a tank to produce salt water.\n",
    "\n",
    "<center>\n",
    "    <img src=\"salt.png\" width=500/>\n",
    "</center>"
   ]
  },
  {
   "cell_type": "markdown",
   "metadata": {
    "slideshow": {
     "slide_type": "fragment"
    }
   },
   "source": [
    "* it is desired to maintain the concentration of salt, $c$, at a *set point*\n",
    "* the size of the salt granules is highly irregular, and thus the mass flow rate of salt $\\dot{m}$ is highly variable\n",
    "* a control valve allows the adjustment of the flow rate of pure water, $q$"
   ]
  },
  {
   "cell_type": "markdown",
   "metadata": {
    "slideshow": {
     "slide_type": "subslide"
    }
   },
   "source": [
    "Important variables that have been selected to receive the attention of the control system typically have target values at which they are required to be maintained. These target values are called *set points*.\n",
    "\n",
    "-Ogunnaike and Ray. Process Dynamics, Modeling, and Control"
   ]
  },
  {
   "cell_type": "markdown",
   "metadata": {
    "slideshow": {
     "slide_type": "slide"
    }
   },
   "source": [
    "### Variable nomenclature\n",
    "\n",
    "What are the controlled, manipulated, and disturbance variables?"
   ]
  },
  {
   "cell_type": "markdown",
   "metadata": {
    "slideshow": {
     "slide_type": "fragment"
    }
   },
   "source": [
    "* $c(t)$ is the controlled variable since it is desired to maintained it at a set point\n",
    "* $q(t)$ is the manipulated variable since we manipulate it via the control valve as a means to adjust the controlled variable $c$\n",
    "* $\\dot{m}(t)$ is the disturbance variable because it is not directly controlled and it influences the controlled variable"
   ]
  },
  {
   "cell_type": "markdown",
   "metadata": {
    "slideshow": {
     "slide_type": "slide"
    }
   },
   "source": [
    "### Difference between feedback and feedforward control strategies\n",
    "\n",
    "* In *feedback control*, we measure the controlled variable and adjust the manipulated variable on the basis of this measurement.\n",
    "* In *feedforward control*, we measure the disturbance variable and adjust the manipulated variable on the basis of this measurement."
   ]
  },
  {
   "cell_type": "markdown",
   "metadata": {
    "slideshow": {
     "slide_type": "subslide"
    }
   },
   "source": [
    "<center>\n",
    "    <img src=\"salt.png\" width=500/>\n",
    "</center>\n",
    "\n",
    "🌵 *Feedback control strategy:* adjust $q(t)$ based on a measurement of $c(t)$\n",
    "    \n",
    "🌵 *Feedforward control strategy:* adjust $q(t)$ based on a measurement of $\\dot{m}(t)$"
   ]
  },
  {
   "cell_type": "markdown",
   "metadata": {
    "slideshow": {
     "slide_type": "slide"
    }
   },
   "source": [
    "### Feedback versus feedforward control"
   ]
  },
  {
   "cell_type": "markdown",
   "metadata": {
    "slideshow": {
     "slide_type": "subslide"
    }
   },
   "source": [
    "#### Feedforward control"
   ]
  },
  {
   "cell_type": "markdown",
   "metadata": {
    "slideshow": {
     "slide_type": "fragment"
    }
   },
   "source": [
    "👍 \"anticipatory control\": corrective action is taken *before* the controlled variable is perturbed; controller decision made *before* the process is affected by the incoming disturbance\n",
    "\n",
    "👎 the disturbance variable must be measured (often difficult or impossible)\n",
    "\n",
    "👎 requires an accurate process model to predict how the disturbance and manipulated variable will affect the controlled variable so we can properly compensate for the effect of the disturbance by adjusting the manipulated variable"
   ]
  },
  {
   "cell_type": "markdown",
   "metadata": {
    "slideshow": {
     "slide_type": "subslide"
    }
   },
   "source": [
    "#### Feedback control"
   ]
  },
  {
   "cell_type": "markdown",
   "metadata": {
    "slideshow": {
     "slide_type": "fragment"
    }
   },
   "source": [
    "👍 corrective action taken regardless of the disturbance\n",
    "\n",
    "<center>\n",
    "    <img src=\"salt_troll.png\" width=300/>\n",
    "</center>\n",
    "\n",
    "👍 minimal need for an accurate process model (except for designing & tuning controller and sizing control elements!)\n",
    "\n",
    "👎 no corrective action taken until a process upset has already occurred; controller decisions taken \"after the fact\" of a disturbance"
   ]
  },
  {
   "cell_type": "markdown",
   "metadata": {
    "slideshow": {
     "slide_type": "slide"
    }
   },
   "source": [
    "# Transfer function model (linear)\n",
    "\n",
    "Transfer function $G(s)$ characterizes dynamic relationship between an input (independent) variable $u(t)$ to the output (dependent) variable $y(t)$.\n",
    "\n",
    "\\begin{equation}\n",
    "    G(s) := \\frac{Y(s)}{U(s)}\n",
    "\\end{equation}\n",
    "where $Y(s)=\\mathcal{L}[y(t)]$, $U(s)=\\mathcal{L}[u(t)]$."
   ]
  },
  {
   "cell_type": "markdown",
   "metadata": {
    "slideshow": {
     "slide_type": "fragment"
    }
   },
   "source": [
    "So Laplace transform of output $Y(s)=G(s)U(s)$.\n",
    "\n",
    "<center>\n",
    "    <img src=\"TF.png\" width=200/>\n",
    "</center>"
   ]
  },
  {
   "cell_type": "markdown",
   "metadata": {
    "slideshow": {
     "slide_type": "subslide"
    }
   },
   "source": [
    "The controlled variable (the output of the process) is influenced by both the manipulated variable and the disturbance variable. Each input (manipulated and disturbance variables) has a transfer function associated with its contribution to the output.\n",
    "\n",
    "i.e.\n",
    "\n",
    "$Y(s) = G_p(s) U(s) + G_d(s) D(s)$,\n",
    "\n",
    "where \n",
    "\n",
    "* $Y(s)$ is the output\n",
    "* $U(s)$ is the manipulated variable\n",
    "* $D(s)$ is the disturbance variable\n",
    "* $G_p(s)$ is the process transfer function relating contribution of manipulated variable to the controlled variable\n",
    "* $G_d(s)$ is the disturbance transfer function relating contribution of disturbance variable to the controlled variable"
   ]
  },
  {
   "cell_type": "markdown",
   "metadata": {
    "slideshow": {
     "slide_type": "subslide"
    }
   },
   "source": [
    "### Example\n",
    "\n",
    "<center>\n",
    "    <img src=\"salt.png\" width=500/>\n",
    "</center>\n",
    "\n",
    "Dynamic model relating $c(t)$, $\\dot{m}(t)$, and $q(t)$ is:\n",
    "\n",
    "\\begin{equation}\n",
    "    V\\frac{dc}{dt} = \\dot{m} - q c,\n",
    "\\end{equation} assuming\n",
    "\n",
    "* well-mixed tank\n",
    "* the density of the liquid is independent of the salt concentration\n",
    "\n",
    "Derive the transfer functions relating the controlled variable $c$ to the manipulated and disturbance variables $q$ and $\\dot{m}$, respectively."
   ]
  },
  {
   "cell_type": "markdown",
   "metadata": {
    "slideshow": {
     "slide_type": "subslide"
    }
   },
   "source": [
    "#### Step 1: Linearize\n",
    "\n",
    "The model is non-linear!"
   ]
  },
  {
   "cell_type": "markdown",
   "metadata": {
    "slideshow": {
     "slide_type": "fragment"
    }
   },
   "source": [
    "Let $\\bar{c}$, $\\bar{\\dot{m}}$, and $\\bar{q}$ be the nominal steady-state values, which satisfy:\n",
    "\\begin{equation}\n",
    "    \\bar{\\dot{m}}-\\bar{q}\\bar{c}=0.\n",
    "\\end{equation}"
   ]
  },
  {
   "cell_type": "markdown",
   "metadata": {
    "slideshow": {
     "slide_type": "fragment"
    }
   },
   "source": [
    "Define deviation variables, e.g. $c^*(t):=c(t)-\\bar{c}$"
   ]
  },
  {
   "cell_type": "markdown",
   "metadata": {
    "slideshow": {
     "slide_type": "subslide"
    }
   },
   "source": [
    "Let $f(c, q, \\dot{m}):=\\dot{m} - qc$. Then:\n",
    "\n",
    "\\begin{equation}\n",
    "V\\frac{dc}{dt} = V\\frac{dc^*}{dt} =f(\\bar{c}, \\bar{q}, \\bar{\\dot{m}}) +  \\frac{\\partial f}{\\partial c}  \\bigg \\rvert _{\\bar{c}, \\bar{q}, \\bar{\\dot{m}}} c^* + \\frac{\\partial f}{\\partial q}  \\bigg \\rvert_{\\bar{c}, \\bar{q}, \\bar{\\dot{m}}} q^* +  \\frac{\\partial f}{\\partial \\dot{m}}  \\bigg \\rvert_{\\bar{c}, \\bar{q}, \\bar{\\dot{m}}} \\dot{m}^*\n",
    "\\end{equation}\n",
    "\n",
    "and, finally:\n",
    "\n",
    "\\begin{equation}\n",
    "    V\\frac{dc^*}{dt} = \\dot{m}^* - \\bar{q} c^* -\\bar{c}q^*\n",
    "\\end{equation}\n",
    "\n",
    "Linearization automatically converts model into deviation form."
   ]
  },
  {
   "cell_type": "markdown",
   "metadata": {
    "slideshow": {
     "slide_type": "subslide"
    }
   },
   "source": [
    "#### Step 2: Take the Laplace transform"
   ]
  },
  {
   "cell_type": "markdown",
   "metadata": {
    "slideshow": {
     "slide_type": "fragment"
    }
   },
   "source": [
    "\\begin{equation}\n",
    "    VsC^*(s) -c^*(t=0)= \\dot{M}^*(s) - \\bar{q} C^*(s) -\\bar{c}Q^*(s)\n",
    "\\end{equation}\n",
    "\n",
    "Collect $C^*(s):=\\mathcal{L}[c(t)]$ on one side:\n",
    "\n",
    "\\begin{equation}\n",
    "    C^*(s) = \\frac{\\bar{q}^{-1}}{V \\bar{q}^{-1}s+1} \\dot{M}^*(s) + \\frac{-\\bar{c}\\bar{q}^{-1}}{V \\bar{q}^{-1}s+1}Q^*(s)\n",
    "\\end{equation}"
   ]
  },
  {
   "cell_type": "markdown",
   "metadata": {
    "slideshow": {
     "slide_type": "fragment"
    }
   },
   "source": [
    "So here\n",
    "\n",
    "\\begin{equation}\n",
    "    G_p(s)=\\frac{-\\bar{c}\\bar{q}^{-1}}{V \\bar{q}^{-1}s+1}\n",
    "\\end{equation}\n",
    "($q$ is the manipulated variable)\n",
    "\n",
    "and \n",
    "\n",
    "\\begin{equation}\n",
    "    G_d(s)=\\frac{\\bar{q}^{-1}}{V \\bar{q}^{-1}s+1}\n",
    "\\end{equation}\n",
    "($\\dot{m}$ is the disturbance variable)"
   ]
  },
  {
   "cell_type": "markdown",
   "metadata": {
    "slideshow": {
     "slide_type": "slide"
    }
   },
   "source": [
    "#### Block diagram (open loop)\n",
    "\n",
    "<center>\n",
    "    <img src=\"DandU.png\" width=350/>\n",
    "</center>"
   ]
  },
  {
   "cell_type": "markdown",
   "metadata": {
    "slideshow": {
     "slide_type": "slide"
    }
   },
   "source": [
    "### Salt mixer under feedback control\n",
    "\n",
    "<center>\n",
    "    <img src=\"salt_controlled.png\" width=550/>\n",
    "</center>"
   ]
  },
  {
   "cell_type": "markdown",
   "metadata": {
    "slideshow": {
     "slide_type": "slide"
    }
   },
   "source": [
    "### Simplified three-block diagram (closed loop)\n",
    "\n",
    "<center>\n",
    "    <img src=\"closed_loop.png\" width=550/>\n",
    "</center>\n",
    "\n",
    "Controller transfer function:\n",
    "\\begin{equation}\n",
    "    G_c(s):=\\frac{Q^*(s)}{E(s)}\n",
    "\\end{equation}\n",
    "encapsulates control law; determines how the controller, based on the error $E$ between set point and actual salt concentration, adjusts the flow rate of water $Q$ to control the salt concentration."
   ]
  },
  {
   "cell_type": "markdown",
   "metadata": {
    "slideshow": {
     "slide_type": "subslide"
    }
   },
   "source": [
    "* neglects dynamics and gains of concentration sensor and transmitter, current-to-pressure transducer, pneumatic control valve"
   ]
  },
  {
   "cell_type": "markdown",
   "metadata": {
    "slideshow": {
     "slide_type": "slide"
    }
   },
   "source": [
    "### Closed-loop transfer functions\n",
    "\n",
    "<center>\n",
    "    <img src=\"general_closed_loop.png\" width=550/>\n",
    "</center>\n",
    "\n",
    "$Y^*$ is output and controlled variable, $D^*$ is disturbance variable, $U^*$ is manipulated variable.\n",
    "\n",
    "#### We are concerned with two responses\n",
    "\n",
    "🌵 servomechanism (servo) problem: how $Y$ responds to a set point change ($Y_{sp}$)\n",
    "\n",
    "🌵 regulator problem: how $Y$ responds to a change in the disturbance variable $D$"
   ]
  },
  {
   "cell_type": "markdown",
   "metadata": {
    "slideshow": {
     "slide_type": "subslide"
    }
   },
   "source": [
    "#### We seek two closed-loop transfer functions\n",
    "\n",
    "🌵 servomechanism (servo) problem: $\\frac{Y^*}{Y^*_{sp}}$ (assume $D^*=0$)\n",
    "\n",
    "🌵 regulator problem: $\\frac{Y^*}{D^*}$ (assume $Y^*_{sp}=0$)\n"
   ]
  },
  {
   "cell_type": "markdown",
   "metadata": {
    "slideshow": {
     "slide_type": "subslide"
    }
   },
   "source": [
    "Well we know three equations:\n",
    "\n",
    "1. \\begin{equation}\n",
    "    Y^*=G_dD^*+G_pU^*\n",
    "\\end{equation}\n",
    "2. \\begin{equation}\n",
    "    U^* = G_c E\n",
    "\\end{equation}\n",
    "3. \\begin{equation}\n",
    "    E=Y_{sp}^*-Y^*\n",
    "\\end{equation}\n"
   ]
  },
  {
   "cell_type": "markdown",
   "metadata": {
    "slideshow": {
     "slide_type": "fragment"
    }
   },
   "source": [
    "So eliminating $E$ from eqn. 2 and $U^*$ from eqn. 1: \n",
    "\n",
    "\\begin{equation}\n",
    "    Y^*=G_dD^* +G_pG_c(Y_{sp}^*-Y^*)\n",
    "\\end{equation}\n",
    "\n",
    "solving for $Y^*$ reveals the transfer functions for both the regulator and servo problem."
   ]
  },
  {
   "cell_type": "markdown",
   "metadata": {
    "slideshow": {
     "slide_type": "fragment"
    }
   },
   "source": [
    "\\begin{equation}\n",
    "Y=\\frac{G_d}{1+ G_cG_p}D^* + \\frac{G_p G_c}{1+ G_cG_p} Y_{sp}^*\n",
    "\\end{equation}"
   ]
  },
  {
   "cell_type": "markdown",
   "metadata": {
    "slideshow": {
     "slide_type": "subslide"
    }
   },
   "source": [
    "> If we know how the controlled variable $Y^*$ responds to changes in the disturbance variable $D$ (i.e. if we know $G_d$) and to changes in the manipulated variable $U^*$ (i.e. if we know $G_p$)...\n",
    "\n",
    "[this is CHE 361...]\n",
    "\n",
    "> ... we can predict how $Y^*$ responds to disturbances and set point changes for different closed-loop, feedback control schemes (i.e. different $G_c$'s)!"
   ]
  },
  {
   "cell_type": "code",
   "execution_count": null,
   "metadata": {},
   "outputs": [],
   "source": []
  }
 ],
 "metadata": {
  "kernelspec": {
   "display_name": "Julia 0.6.2",
   "language": "julia",
   "name": "julia-0.6"
  },
  "language_info": {
   "file_extension": ".jl",
   "mimetype": "application/julia",
   "name": "julia",
   "version": "0.6.2"
  }
 },
 "nbformat": 4,
 "nbformat_minor": 2
}
