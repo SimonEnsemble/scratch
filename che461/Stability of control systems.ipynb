{
 "cells": [
  {
   "cell_type": "markdown",
   "metadata": {
    "slideshow": {
     "slide_type": "slide"
    }
   },
   "source": [
    "# Stability of closed-loop control systems"
   ]
  },
  {
   "cell_type": "markdown",
   "metadata": {
    "slideshow": {
     "slide_type": "slide"
    }
   },
   "source": [
    "#### Open-loop stability\n",
    "\n",
    "Consider a process without any feedback control, operating at a steady state."
   ]
  },
  {
   "cell_type": "markdown",
   "metadata": {
    "slideshow": {
     "slide_type": "fragment"
    }
   },
   "source": [
    "Such a process is **open-loop stable** if it returns to the original steady state after a transient (not sustained!) disturbance occurs."
   ]
  },
  {
   "cell_type": "markdown",
   "metadata": {
    "slideshow": {
     "slide_type": "fragment"
    }
   },
   "source": [
    "Most industrial processes are open-loop stable.\n",
    "Some are not, e.g. runaway reactions in an exothermic reactor."
   ]
  },
  {
   "cell_type": "markdown",
   "metadata": {
    "slideshow": {
     "slide_type": "subslide"
    }
   },
   "source": [
    "#### [bounded-input, bounded-output] (BIBO) stability\n",
    "\n",
    "An unconstrained, linear system is BIBO stable if the output response is bounded for all bounded inputs. Otherwise, it is unstable."
   ]
  },
  {
   "cell_type": "markdown",
   "metadata": {
    "slideshow": {
     "slide_type": "subslide"
    }
   },
   "source": [
    "\"unconstrained system\"?\n",
    "\n",
    "... the idealized situation where there are no physical limits on the output variable.\n",
    "\n",
    "In reality, an unstable process manifests in e.g. bang-bang of control valves as they oscillate between fully open and fully closed."
   ]
  },
  {
   "cell_type": "markdown",
   "metadata": {
    "slideshow": {
     "slide_type": "slide"
    }
   },
   "source": [
    "#### Questions with which to grapple\n",
    "* What are the conditions for a linear system desribed by transfer function $G(s)$ to be BIBO stable?\n",
    "* Can an open-loop stable process be unstabilized by the addition of a feedback control system?\n",
    "* Can an open-loop unstable process be stabilized by the addition of a feedback control system?"
   ]
  },
  {
   "cell_type": "markdown",
   "metadata": {
    "slideshow": {
     "slide_type": "slide"
    }
   },
   "source": [
    "## Criterion for BIBO stability\n",
    "\n",
    "<center>\n",
    "    <img src=\"generic_tf.png\" width=500>\n",
    "</center>\n",
    "\n",
    "Let's look at it from the point of view of a general transfer function, $G(s)$."
   ]
  },
  {
   "cell_type": "markdown",
   "metadata": {
    "slideshow": {
     "slide_type": "subslide"
    }
   },
   "source": [
    "... but what about the control system?"
   ]
  },
  {
   "cell_type": "markdown",
   "metadata": {
    "slideshow": {
     "slide_type": "slide"
    }
   },
   "source": [
    "#### Consider the standard block diagram of a feedback control system\n",
    "\n",
    "<center>\n",
    "    <img src=\"standard_block_diagram.png\" width=1000>\n",
    "</center>"
   ]
  },
  {
   "cell_type": "markdown",
   "metadata": {
    "slideshow": {
     "slide_type": "subslide"
    }
   },
   "source": [
    "The open-loop transfer function is:\n",
    "    \n",
    "\\begin{equation}\n",
    "    G_{OL}(s)=G_c G_v G_p G_m\n",
    "\\end{equation}\n",
    "\n",
    "(conceptually, open the loop just before the comparator; then $G_{OL}(s)$ relates $\\tilde{Y}_m$ to error $E$; i.e. $\\tilde{Y}_m=G_{OL}E$ given $D^*=0$)"
   ]
  },
  {
   "cell_type": "markdown",
   "metadata": {
    "slideshow": {
     "slide_type": "subslide"
    }
   },
   "source": [
    "The closed loop servo response is characterized by:\n",
    "\n",
    "\\begin{equation}\n",
    "\\frac{Y^*}{Y_{sp}^*} = \\frac{K_m G_c G_v G_p}{1+ G_{OL}}\n",
    "\\end{equation}\n",
    "\n",
    "<center>\n",
    "    <img src=\"servo.png\" width=600>\n",
    "</center>"
   ]
  },
  {
   "cell_type": "markdown",
   "metadata": {
    "slideshow": {
     "slide_type": "subslide"
    }
   },
   "source": [
    "The closed loop regulatory response is characterized by:\n",
    "\n",
    "\\begin{equation}\n",
    "\\frac{Y^*}{D^*} = \\frac{G_d}{1+ G_{OL}}\n",
    "\\end{equation}\n",
    "\n",
    "<center>\n",
    "    <img src=\"regulator.png\" width=600>\n",
    "</center>"
   ]
  },
  {
   "cell_type": "markdown",
   "metadata": {
    "slideshow": {
     "slide_type": "subslide"
    }
   },
   "source": [
    "... so when we can study the BIBO stability of a general transfer function $G(s)$ and apply these concepts to $\\frac{G_d}{1+G_{OL}}$ and $\\frac{K_m G_c G_v G_p}{1+ G_{OL}}$ to assess closed-loop stability."
   ]
  },
  {
   "cell_type": "markdown",
   "metadata": {
    "slideshow": {
     "slide_type": "slide"
    }
   },
   "source": [
    "## Criterion for BIBO stability\n",
    "\n",
    "<center>\n",
    "    <img src=\"generic_tf.png\" width=500>\n",
    "</center>\n",
    "\n",
    "::in-class notes::\n",
    "\n",
    "For a bounded response to a bounded input (BIBO stability), all poles of the transfer function $G(s)$ must be negative or have negative real parts. If *any* of the poles possess positive real parts, the system is unstable."
   ]
  },
  {
   "cell_type": "markdown",
   "metadata": {
    "slideshow": {
     "slide_type": "slide"
    }
   },
   "source": [
    "### Stability of closed-loop control systems\n",
    "\n",
    "For investigating the BIBO stability of a closed-loop system under both set point changes and disturbances...\n",
    "\n",
    "<center>\n",
    "    <img src=\"servo.png\" width=250>\n",
    "    <img src=\"regulator.png\" width=250>\n",
    "</center>\n",
    "\n",
    "The roots of the **characteristic equation**:\n",
    "\\begin{equation}\n",
    "1+ G_{OL}(s)=0\n",
    "\\end{equation}\n",
    "must all have negative real parts (i.e. lie in the left-half plane) for the closed-loop response (servo and regulator) to be stable."
   ]
  },
  {
   "cell_type": "markdown",
   "metadata": {
    "slideshow": {
     "slide_type": "subslide"
    }
   },
   "source": [
    "#### Example time\n",
    "\n",
    "<center>\n",
    "    <img src=\"ex11pt7.png\" width=800>\n",
    "</center>\n",
    "\n",
    "For what values of $K_c$ is the closed-loop response stable?"
   ]
  },
  {
   "cell_type": "markdown",
   "metadata": {
    "slideshow": {
     "slide_type": "slide"
    }
   },
   "source": [
    "## An open-loop stable process can be destabilized by a control system\n",
    "\n",
    "<center>\n",
    "    <img src=\"ex11pt4.png\" width=800>\n",
    "</center>"
   ]
  },
  {
   "cell_type": "markdown",
   "metadata": {
    "slideshow": {
     "slide_type": "subslide"
    }
   },
   "source": [
    "What is the charactersitic equation here?\n",
    "\n",
    "\\begin{equation}\n",
    "    1+G_{OL}=0 \\implies (2s+1)(5s+1)(s+1) + K_c = 0\n",
    "\\end{equation}\n",
    "The roots depend on $K_c$, hence $K_c$ can conceivably change the stability of the closed-loop servo response."
   ]
  },
  {
   "cell_type": "markdown",
   "metadata": {
    "slideshow": {
     "slide_type": "fragment"
    }
   },
   "source": [
    "`roots` function in MATLAB calculates the roots and reveals:\n",
    "* for $K_c=2, 6$, all three roots have negative real parts (stable)\n",
    "* for $K_c=15$, there are two roots with positive real parts (unstable)"
   ]
  },
  {
   "cell_type": "markdown",
   "metadata": {
    "slideshow": {
     "slide_type": "subslide"
    }
   },
   "source": [
    "Simulated (servo) response to unit step change in set point:\n",
    "\n",
    "<center>\n",
    "    <img src=\"instability.png\" width=450>\n",
    "</center>"
   ]
  },
  {
   "cell_type": "markdown",
   "metadata": {
    "slideshow": {
     "slide_type": "fragment"
    }
   },
   "source": [
    "A larger controller gain $K_c$ may yield a smaller rise time (time to first reach new steady state) [compare $K_c=6$ and $K_c=2$], but can induce instability [see $K_c=15$]."
   ]
  },
  {
   "cell_type": "markdown",
   "metadata": {
    "slideshow": {
     "slide_type": "slide"
    }
   },
   "source": [
    "## An open-loop unstable process can be stabilized by a feedback controller\n",
    "\n",
    "<center>\n",
    "    <img src=\"ex11pt8.png\" width=600>\n",
    "</center>\n",
    "\n",
    "Open-loop unstable because process transfer function $G_p(s)$ posesses pole at $s=1$ in the right-half plane."
   ]
  },
  {
   "cell_type": "markdown",
   "metadata": {
    "slideshow": {
     "slide_type": "subslide"
    }
   },
   "source": [
    "\\begin{equation}\n",
    "1+ G_{OL}(s) = 0 \\implies -s + 1 + 0.2 K_c = 0.\n",
    "\\end{equation}\n",
    "\n",
    "Single root at $s=1+0.2K_c$.\n",
    "\n",
    "If $K_c<5$, root lies in left-half plane and closed-loop response is stable!"
   ]
  }
 ],
 "metadata": {
  "kernelspec": {
   "display_name": "Julia 0.6.2",
   "language": "julia",
   "name": "julia-0.6"
  },
  "language_info": {
   "file_extension": ".jl",
   "mimetype": "application/julia",
   "name": "julia",
   "version": "0.6.2"
  }
 },
 "nbformat": 4,
 "nbformat_minor": 2
}
